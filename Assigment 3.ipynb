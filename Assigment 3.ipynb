{
 "cells": [
  {
   "cell_type": "code",
   "execution_count": 4,
   "metadata": {},
   "outputs": [
    {
     "name": "stdout",
     "output_type": "stream",
     "text": [
      "Enter the Number : 5\n",
      "Enter the Correct Operator : **\n",
      "Enter the Number : 4\n",
      "625\n"
     ]
    }
   ],
   "source": [
    "\"\"\"Make a calculator using Python with addition , subtraction , multiplication ,\n",
    "division and power\"\"\"\n",
    "\n",
    "x = int(input(\"Enter the Number : \"));\n",
    "y = input(\"Enter the Correct Operator : \");\n",
    "z = int(input(\"Enter the Number : \"));\n",
    "\n",
    "if (y == \"+\"):\n",
    "    print(x + z);\n",
    "elif (y == \"*\"):\n",
    "    print(x * z);\n",
    "elif (y == \"-\"):\n",
    "    print(x - z);\n",
    "elif (y == \"/\"):\n",
    "    print(x / z);\n",
    "elif (y == \"**\"):\n",
    "    print(x ** z);\n",
    "else:\n",
    "    print (\"Select correct Operator\");"
   ]
  },
  {
   "cell_type": "code",
   "execution_count": 14,
   "metadata": {},
   "outputs": [
    {
     "name": "stdout",
     "output_type": "stream",
     "text": [
      "Numeric number is found :  5.8\n",
      "Numeric number is found :  5\n"
     ]
    }
   ],
   "source": [
    "\"\"\"Write a program to check if there is any numeric value in list using for loop..?\"\"\"\n",
    "\n",
    "thisList = [\"saad\" , \"ashar\" , 5.8 , 5 , \"Muneeb\"];\n",
    "\n",
    "for value in thisList:\n",
    "    if type(value) == int or type(value) == float:\n",
    "        print (\"Numeric number is found : \" , value);\n",
    "        \n",
    "        \n",
    "        "
   ]
  },
  {
   "cell_type": "code",
   "execution_count": 28,
   "metadata": {},
   "outputs": [
    {
     "name": "stdout",
     "output_type": "stream",
     "text": [
      "{'Name': 'Suffyan', 'Contact': ' 03072508972', 'Email': 'suffyan.r01@gmail.com'}\n"
     ]
    }
   ],
   "source": [
    "\"\"\"Write a Python script to add a key to a dictionary\"\"\"\n",
    "dic = {\"Name\" : \"Suffyan\" , \n",
    "       \"Contact\" : \" 03072508972\" ,\n",
    "       \"Email\" : \"suffyan.r01@gmail.com\"}\n",
    "print (dic)"
   ]
  },
  {
   "cell_type": "code",
   "execution_count": 27,
   "metadata": {},
   "outputs": [
    {
     "name": "stdout",
     "output_type": "stream",
     "text": [
      "{'Name': 'Suffyan', 'Contact': ' 03072508972', 'Email': 'suffyan.r01@gmail.com', 'city': 'Karachi'}\n"
     ]
    }
   ],
   "source": [
    "dic[\"city\"] = \"Karachi\";\n",
    "print(dic)"
   ]
  },
  {
   "cell_type": "code",
   "execution_count": 30,
   "metadata": {},
   "outputs": [
    {
     "name": "stdout",
     "output_type": "stream",
     "text": [
      "Sum : 655\n"
     ]
    }
   ],
   "source": [
    "def returnSum(Dict): \n",
    "      \n",
    "    sum = 0\n",
    "    for i in Dict: \n",
    "        sum = sum + Dict[i] \n",
    "      \n",
    "    return sum\n",
    "\n",
    "dict = {'a': 55, 'b':100, 'c':500} \n",
    "print(\"Sum :\", returnSum(dict))"
   ]
  },
  {
   "cell_type": "code",
   "execution_count": 31,
   "metadata": {},
   "outputs": [
    {
     "name": "stdout",
     "output_type": "stream",
     "text": [
      "[20, 30, 40, -20]\n"
     ]
    }
   ],
   "source": [
    "def Repeat(x): \n",
    "    size = len(x) \n",
    "    repeated = [] \n",
    "    for i in range(size): \n",
    "        k = i + 1\n",
    "        for j in range(k, size): \n",
    "            if x[i] == x[j] and x[i] not in repeated: \n",
    "                repeated.append(x[i]) \n",
    "    return repeated \n",
    "  \n",
    "list1 = [20, 30, 20, 20, 30, 40,  \n",
    "         50, -20, 60, 40, -20, 20] \n",
    "print (Repeat(list1))"
   ]
  },
  {
   "cell_type": "code",
   "execution_count": null,
   "metadata": {},
   "outputs": [],
   "source": [
    "def checkKey(dict, key): \n",
    "      \n",
    "    if key in dict.keys(): \n",
    "        print(\"Present, \", end =\" \") \n",
    "        print(\"value =\", dict[key]) \n",
    "    else: \n",
    "        print(\"Not present\") \n",
    "  \n",
    "dict = {'x': 10, 'y':20, 'z':3} \n",
    "  \n",
    "key = 'z'\n",
    "checkKey(dict, key) \n",
    "  \n",
    "key = 'a'\n",
    "checkKey(dict, key)"
   ]
  }
 ],
 "metadata": {
  "kernelspec": {
   "display_name": "Python 3",
   "language": "python",
   "name": "python3"
  },
  "language_info": {
   "codemirror_mode": {
    "name": "ipython",
    "version": 3
   },
   "file_extension": ".py",
   "mimetype": "text/x-python",
   "name": "python",
   "nbconvert_exporter": "python",
   "pygments_lexer": "ipython3",
   "version": "3.7.4"
  }
 },
 "nbformat": 4,
 "nbformat_minor": 2
}
