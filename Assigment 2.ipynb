{
 "cells": [
  {
   "cell_type": "code",
   "execution_count": 5,
   "metadata": {},
   "outputs": [
    {
     "name": "stdout",
     "output_type": "stream",
     "text": [
      "Enter your Marks of Math = 48\n",
      "Enter your Marks of English = 89\n",
      "Enter your Marks of Urdu = 78\n",
      "Enter your Marks of Physics = 69\n",
      "Enter your Marks of Chemistry = 54\n",
      "67.6 Accourding to your Per our grade is  = B \n"
     ]
    }
   ],
   "source": [
    "Math = int(input(\"Enter your Marks of Math = \"))\n",
    "English = int(input(\"Enter your Marks of English = \"))\n",
    "Urdu = int(input(\"Enter your Marks of Urdu = \"))\n",
    "Physics = int(input(\"Enter your Marks of Physics = \"))\n",
    "Chemistry = int(input(\"Enter your Marks of Chemistry = \"))\n",
    "total = Math + Urdu +English + Physics + Chemistry\n",
    "grand_total = total * 100 /500\n",
    "per = grand_total\n",
    "if per >=80 and per < 100:\n",
    "    print(grand_total , \"Accourding to your Per our grade is  = A+ \")\n",
    "elif per >= 70 and per <80:\n",
    "    print(grand_total , \"Accourding to your Per our grade is  = A \")\n",
    "elif per >=60 and per <70:\n",
    "    print(grand_total , \"Accourding to your Per our grade is  = B \")\n",
    "elif per >=50 and per <60:\n",
    "    print(grand_total , \"Accourding to your Per our grade is  = C \")\n",
    "else :\n",
    "    print(grand_total , \"Your Are Failed in Exam \")\n"
   ]
  },
  {
   "cell_type": "code",
   "execution_count": 8,
   "metadata": {},
   "outputs": [
    {
     "name": "stdout",
     "output_type": "stream",
     "text": [
      "Enter the Number = 12\n",
      "Even Number\n"
     ]
    }
   ],
   "source": [
    "x = int(input(\"Enter the Number = \"))\n",
    "if x%2 == 0:\n",
    "    print(\"Even Number\")\n",
    "else:\n",
    "    print(\"Odd Number\")"
   ]
  },
  {
   "cell_type": "code",
   "execution_count": 9,
   "metadata": {},
   "outputs": [
    {
     "name": "stdout",
     "output_type": "stream",
     "text": [
      "6\n"
     ]
    }
   ],
   "source": [
    "List = [1,2,5,6,8,9]\n",
    "print(len(List))"
   ]
  },
  {
   "cell_type": "code",
   "execution_count": 12,
   "metadata": {},
   "outputs": [
    {
     "name": "stdout",
     "output_type": "stream",
     "text": [
      "298\n"
     ]
    }
   ],
   "source": [
    "list = [5,58,59,41,25,36,74]\n",
    "print(sum(list))"
   ]
  },
  {
   "cell_type": "code",
   "execution_count": 11,
   "metadata": {},
   "outputs": [
    {
     "name": "stdout",
     "output_type": "stream",
     "text": [
      "74\n"
     ]
    }
   ],
   "source": [
    "list =[5,58,59,41,25,36,74]\n",
    "print(max(list))"
   ]
  },
  {
   "cell_type": "code",
   "execution_count": 13,
   "metadata": {},
   "outputs": [
    {
     "name": "stdout",
     "output_type": "stream",
     "text": [
      "1\n",
      "1\n",
      "2\n",
      "3\n"
     ]
    }
   ],
   "source": [
    "list = [1,1,2,3,5,8,13,21,34,55,89]\n",
    "x = len(list)\n",
    "for i in range(x):\n",
    "    if list[i]<5:\n",
    "        print(list[i])"
   ]
  },
  {
   "cell_type": "code",
   "execution_count": null,
   "metadata": {},
   "outputs": [],
   "source": []
  }
 ],
 "metadata": {
  "kernelspec": {
   "display_name": "Python 3",
   "language": "python",
   "name": "python3"
  },
  "language_info": {
   "codemirror_mode": {
    "name": "ipython",
    "version": 3
   },
   "file_extension": ".py",
   "mimetype": "text/x-python",
   "name": "python",
   "nbconvert_exporter": "python",
   "pygments_lexer": "ipython3",
   "version": "3.7.4"
  }
 },
 "nbformat": 4,
 "nbformat_minor": 2
}
