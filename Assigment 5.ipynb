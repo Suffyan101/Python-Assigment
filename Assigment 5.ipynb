{
 "cells": [
  {
   "cell_type": "code",
   "execution_count": 93,
   "metadata": {},
   "outputs": [
    {
     "name": "stdout",
     "output_type": "stream",
     "text": [
      "Please Enter the number to complete factorial : 5\n",
      "120\n"
     ]
    }
   ],
   "source": [
    "#Write a Python function to calculate the factorial of a number (a non-negative integer). \n",
    "#The function accepts the number as an argument.\n",
    "\n",
    "def factorial(m):\n",
    "    \n",
    "    if m == 0:\n",
    "        return 1\n",
    "    else:\n",
    "        return m * factorial(m-1)\n",
    "m = int(input(\"Please Enter the number to complete factorial : \"))\n",
    "print(factorial(m))\n"
   ]
  },
  {
   "cell_type": "code",
   "execution_count": 7,
   "metadata": {},
   "outputs": [
    {
     "name": "stdout",
     "output_type": "stream",
     "text": [
      "Enter Original String :  The God Father\n",
      "No of Upper Case in string is :  3\n",
      "No of Upper Case in string is :  9\n",
      "None\n"
     ]
    }
   ],
   "source": [
    "#Write a Python function that accepts a string and calculate the number of upper\n",
    "#case letters and lower case letters.\n",
    "\n",
    "def Uperlowercase(a):\n",
    "    upercase = 0\n",
    "    lowercase = 0\n",
    "    for c in a:\n",
    "        if c.isupper():\n",
    "            upercase +=1\n",
    "        elif c.islower():\n",
    "            lowercase +=1\n",
    "        else:\n",
    "            pass\n",
    "    print(\"Enter Original String : \", a)\n",
    "    print(\"No of Upper Case in string is : \",upercase )\n",
    "    print(\"No of Upper Case in string is : \",lowercase)\n",
    "print(Uperlowercase(\"The God Father\"))"
   ]
  },
  {
   "cell_type": "code",
   "execution_count": 16,
   "metadata": {},
   "outputs": [
    {
     "name": "stdout",
     "output_type": "stream",
     "text": [
      "The providing list is :  [0, 1, 2, 3, 4, 5, 6, 7, 8, 3, 10, 9, 7, 58]\n",
      "The Even number in list is :  [0, 2, 4, 6, 8, 10, 58]\n",
      "The Odd number in list is :  [1, 3, 5, 7, 3, 9, 7]\n",
      "None\n"
     ]
    }
   ],
   "source": [
    "#Write a Python function to print the even numbers from a given list.\n",
    "\n",
    "my_List = [0 ,1,2,3,4,5,6,7,8,3,10,9,7,58,]\n",
    "\n",
    "def evenodd(my_List):\n",
    "    even = []\n",
    "    odd = []\n",
    "    for a in my_List:\n",
    "        if (a % 2)==0:\n",
    "            even.append(a)\n",
    "        elif (a % 2)!=0:\n",
    "            odd.append(a)\n",
    "        else:\n",
    "            return (\"That not a integar value or in negative value\")\n",
    "    print(\"The providing list is : \", my_List)\n",
    "    print(\"The Even number in list is : \", even)\n",
    "    print(\"The Odd number in list is : \", odd)\n",
    "print(evenodd(my_List))"
   ]
  },
  {
   "cell_type": "code",
   "execution_count": 18,
   "metadata": {},
   "outputs": [
    {
     "name": "stdout",
     "output_type": "stream",
     "text": [
      "Type a String to palindromeant\n",
      "This string is not a Palindrome\n",
      "None\n"
     ]
    }
   ],
   "source": [
    "#Write a Python function that checks whether a passed string is palindrome or not.\n",
    "#Note: A palindrome is a word, phrase, or sequence that reads the same\n",
    "#backward as forward, e.g., madam\n",
    "\n",
    "a = input(\"Type a String to palindrome\")\n",
    "\n",
    "def palindrome(a):\n",
    "    b = a[::-1]\n",
    "    if a==b:\n",
    "        print(\"This string is Palindrome\")\n",
    "    else:\n",
    "         print(\"This string is not a Palindrome\")\n",
    "print(palindrome(a))"
   ]
  },
  {
   "cell_type": "code",
   "execution_count": 108,
   "metadata": {},
   "outputs": [
    {
     "name": "stdout",
     "output_type": "stream",
     "text": [
      "Enter the Integar number to check it is prime or not : 5\n",
      "5 This is a Prime number\n",
      "None\n"
     ]
    }
   ],
   "source": [
    "#Write a Python function that takes a number as a parameter and check the\n",
    "#number is prime or not.\n",
    "n = int(input(\"Enter the Integar number to check it is prime or not : \"))\n",
    "\n",
    "def prime_Test(n):\n",
    "    if n > 1:\n",
    "        for x in range(2,n):\n",
    "            if (n % x)==0:\n",
    "                print(n,\"not a prime\")\n",
    "                print(x,\"Times\",n//x,\"is\",n)\n",
    "                break\n",
    "        else:\n",
    "            print(n,\"This is a Prime number\")\n",
    "    else:\n",
    "        print(x,\"This is a Prime Number\")\n",
    "\n",
    "print(prime_Test(n))\n"
   ]
  },
  {
   "cell_type": "code",
   "execution_count": 116,
   "metadata": {},
   "outputs": [
    {
     "name": "stdout",
     "output_type": "stream",
     "text": [
      "Customer Name Suffyan\n",
      "Led\n",
      "Banana\n",
      "Bed\n",
      "Playstation\n"
     ]
    }
   ],
   "source": [
    "#Suppose a customer is shopping in a market and you need to print all the items\n",
    "#which user bought from market.\n",
    "#Write a function which accepts the multiple arguments of user shopping list and\n",
    "#print all the items which user bought from market.\n",
    "\n",
    "def shoping(Name,*param):\n",
    "    print(\"Customer Name\",Name)\n",
    "    for a in param:\n",
    "        print(a)\n",
    "        \n",
    "shoping(\"Suffyan\", \"Led\",\"Banana\",\"Bed\",\"Playstation\")"
   ]
  }
 ],
 "metadata": {
  "kernelspec": {
   "display_name": "Python 3",
   "language": "python",
   "name": "python3"
  },
  "language_info": {
   "codemirror_mode": {
    "name": "ipython",
    "version": 3
   },
   "file_extension": ".py",
   "mimetype": "text/x-python",
   "name": "python",
   "nbconvert_exporter": "python",
   "pygments_lexer": "ipython3",
   "version": "3.7.4"
  }
 },
 "nbformat": 4,
 "nbformat_minor": 2
}
