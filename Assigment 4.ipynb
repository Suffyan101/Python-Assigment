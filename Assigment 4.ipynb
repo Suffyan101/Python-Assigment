{
 "cells": [
  {
   "cell_type": "code",
   "execution_count": 6,
   "metadata": {},
   "outputs": [
    {
     "name": "stdout",
     "output_type": "stream",
     "text": [
      "First name: Faizan\n",
      "Last name: Anjum\n",
      "Age: 22\n",
      "City: Karachi\n"
     ]
    }
   ],
   "source": [
    "###Person: Use a dictionary to store information\n",
    "# about a person you know. Store their first name,\n",
    "# last name, age, and the city in which they live. You\n",
    "# should have keys such as first_name, last_name,\n",
    "# age, and city. Print each piece of information stored\n",
    "# in your dictionary.\n",
    "\n",
    "friend = {\n",
    "    'first_name': 'faizan',\n",
    "    'last_name': 'anjum',\n",
    "    'age': '22',\n",
    "    'city': 'Karachi',\n",
    "    }\n",
    "\n",
    "print('First name: ' + friend['first_name'].title())\n",
    "print('Last name: ' + friend['last_name'].title())\n",
    "print('Age: ' + friend['age'])\n",
    "print('City: ' + friend['city'].title())"
   ]
  },
  {
   "cell_type": "code",
   "execution_count": 25,
   "metadata": {},
   "outputs": [
    {
     "name": "stdout",
     "output_type": "stream",
     "text": [
      "\n",
      "Karachi is in Pakistan\n",
      "The population of the city 1.7 Million\n",
      "The fact About the city is Karachities are crazy about food\n",
      "\n",
      "Bombay is in India\n",
      "The population of the city 18.41 Million\n",
      "The fact About the city is Never Sleep\n",
      "\n",
      "Istanbul is in Turkey\n",
      "The population of the city 15.07 Million\n",
      "The fact About the city is Sweet Dishes\n"
     ]
    }
   ],
   "source": [
    "#Make a dictionary called cities. Use the names of three cities as keys in your dictionary. Create a dictionary of information\n",
    "#about each city and include the country that the city is in, its approximate population, and one fact about that city. \n",
    "#The keys for each city’s dictionary should be something like country, population, and fact. Print the name of each city \n",
    "#and all of the information you have stored about it.\n",
    "Cities = {\n",
    "    \"Karachi\":{\n",
    "        \"Country\" : \"Pakistan\",\n",
    "        \"Population\" : \"1.7 Million\",\n",
    "        \"Fact\" : \"Karachities are crazy about food\"\n",
    "        },\n",
    "    \"Bombay\":{\n",
    "        \"Country\" : \"India\",\n",
    "        \"Population\" : \"18.41 Million\",\n",
    "        \"Fact\" : \"Never Sleep\"\n",
    "        },\n",
    "    \"Istanbul\":{\n",
    "        \"Country\" : \"Turkey\",\n",
    "        \"Population\" : \"15.07 Million\",\n",
    "        \"Fact\" : \"Sweet Dishes\"\n",
    "    }\n",
    "}\n",
    "for city , city_info in Cities.items():\n",
    "    country = city_info[\"Country\"]\n",
    "    population = city_info[\"Population\"]\n",
    "    fact = city_info[\"Fact\"]\n",
    "    \n",
    "    print(\"\\n\"+city+ \" is in \" +country)\n",
    "    print(\"The population of the city \" +population)\n",
    "    print(\"The fact About the city is \" +fact)"
   ]
  },
  {
   "cell_type": "code",
   "execution_count": 31,
   "metadata": {},
   "outputs": [
    {
     "name": "stdout",
     "output_type": "stream",
     "text": [
      "How Old are you ?\n",
      "Enter your Age : 15\n",
      "Your ticket price is $15\n",
      "How Old are you ?\n",
      "Enter your Age : 0\n"
     ]
    }
   ],
   "source": [
    "#A movie theater charges different ticket prices depending on a person’s age. If a person is under the age of 3, the ticket \n",
    "#is free; if they are between 3 and 12, the ticket is $10; and if they are over age 12, the ticket is $15. Write a loop in \n",
    "#which you ask users their age, and then tell them the cost of their movie ticket.\n",
    "\n",
    "prompt = \"How Old are you ?\\n\"\n",
    "prompt += \"Enter your Age : \"\n",
    "\n",
    "while True:\n",
    "    age = input(prompt)\n",
    "    age = int(age)\n",
    "    if age == 0:\n",
    "        break\n",
    "    elif age <=3 :\n",
    "        print (\"Your ticket is free\")\n",
    "    elif age <= 12:\n",
    "        print(\"YOur ticket Price is $10\")\n",
    "    else:\n",
    "        print(\"Your ticket price is $15\")"
   ]
  },
  {
   "cell_type": "code",
   "execution_count": 35,
   "metadata": {},
   "outputs": [
    {
     "name": "stdout",
     "output_type": "stream",
     "text": [
      "The God father One of my favorite books is Alice in Wonderland\n"
     ]
    }
   ],
   "source": [
    "#Write a function called favorite_book() that accepts one parameter, title. The function should print a message, such as \n",
    "#One of my favorite books is Alice in Wonderland. Call the function, making sure to include a book title as an argument in \n",
    "#the function call.\n",
    "\n",
    "def favorite_book(title):\n",
    "    print(title+\" One of my favorite books is Alice in Wonderland\")\n",
    "\n",
    "favorite_book(\"The God father\")"
   ]
  },
  {
   "cell_type": "code",
   "execution_count": 32,
   "metadata": {},
   "outputs": [
    {
     "name": "stdout",
     "output_type": "stream",
     "text": [
      "Enter your guess number :5\n",
      "Your guess is too low\n"
     ]
    }
   ],
   "source": [
    "#Guess the number game\n",
    "#Write a program which randomly generate a number between 1 to 30 and ask the user in input field to guess the correct number. \n",
    "#Give three chances to user guess the number and also give hint to user if hidden number is greater or smaller than the number \n",
    "#he given to input field.\n",
    "\n",
    "import random\n",
    "\n",
    "hidden = random.randrange(1,10)\n",
    "\n",
    "guess = int(input(\"Enter your guess number :\"))\n",
    "\n",
    "if guess == hidden:\n",
    "    print(\"Hit!\")\n",
    "elif guess < hidden:\n",
    "    print(\"Your guess is too low\")\n",
    "else:\n",
    "    print(\"Your guess is too high\")\n"
   ]
  },
  {
   "cell_type": "code",
   "execution_count": null,
   "metadata": {},
   "outputs": [],
   "source": []
  },
  {
   "cell_type": "code",
   "execution_count": null,
   "metadata": {},
   "outputs": [],
   "source": []
  },
  {
   "cell_type": "code",
   "execution_count": null,
   "metadata": {},
   "outputs": [],
   "source": []
  }
 ],
 "metadata": {
  "kernelspec": {
   "display_name": "Python 3",
   "language": "python",
   "name": "python3"
  },
  "language_info": {
   "codemirror_mode": {
    "name": "ipython",
    "version": 3
   },
   "file_extension": ".py",
   "mimetype": "text/x-python",
   "name": "python",
   "nbconvert_exporter": "python",
   "pygments_lexer": "ipython3",
   "version": "3.7.4"
  }
 },
 "nbformat": 4,
 "nbformat_minor": 2
}
